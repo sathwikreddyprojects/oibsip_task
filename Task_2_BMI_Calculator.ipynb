{
  "nbformat": 4,
  "nbformat_minor": 0,
  "metadata": {
    "colab": {
      "provenance": [],
      "authorship_tag": "ABX9TyO01/EeCbr2C7Ju2kBjnQvn",
      "include_colab_link": true
    },
    "kernelspec": {
      "name": "python3",
      "display_name": "Python 3"
    },
    "language_info": {
      "name": "python"
    }
  },
  "cells": [
    {
      "cell_type": "markdown",
      "metadata": {
        "id": "view-in-github",
        "colab_type": "text"
      },
      "source": [
        "<a href=\"https://colab.research.google.com/github/sathwikreddyprojects/oibsip_task/blob/main/Task_2_BMI_Calculator.ipynb\" target=\"_parent\"><img src=\"https://colab.research.google.com/assets/colab-badge.svg\" alt=\"Open In Colab\"/></a>"
      ]
    },
    {
      "cell_type": "markdown",
      "source": [
        "# TASK-2\n",
        "\n",
        "#Project Title: BMI Calculator"
      ],
      "metadata": {
        "id": "kkC8y2jANn5R"
      }
    },
    {
      "cell_type": "markdown",
      "source": [
        "**BMI Calculator**"
      ],
      "metadata": {
        "id": "XtmH0azQNyE2"
      }
    },
    {
      "cell_type": "code",
      "source": [
        "name=input(\"Enter your name:\")\n",
        "weight=int(input(\"Enter your weight in pounds:\"))\n",
        "height=int(input(\"Enter your height in inches:\"))\n",
        "BMI=(weight*703)/(height*height)\n",
        "print(BMI)\n",
        "if BMI>0:\n",
        "  if(BMI<18.5):\n",
        "    print(name+\",you are underweight.\")\n",
        "  elif(BMI<24.9):\n",
        "    print(name+\",you are normal weight.\")\n",
        "  elif(BMI<29.9):\n",
        "    print(name+\",you are overweight\");\n",
        "  elif(BMI<34.9):\n",
        "    print(name+\",you are obese\");\n",
        "  elif(BMI<39.9):\n",
        "    print(name+\",you are severely obese\")\n",
        "  else:\n",
        "    print(name+\",you are morbidly obese\")\n",
        "else:\n",
        "  print(\"Enter valid input\")"
      ],
      "metadata": {
        "colab": {
          "base_uri": "https://localhost:8080/"
        },
        "id": "O7nh7qgWN62A",
        "outputId": "1b5f7ea0-101f-447d-9934-11e7daf06613"
      },
      "execution_count": null,
      "outputs": [
        {
          "output_type": "stream",
          "name": "stdout",
          "text": [
            "Enter your name:Sathwik\n",
            "Enter your weight in pounds:145\n",
            "Enter your height in inches:69\n",
            "21.41041797941609\n",
            "Sathwik,you are normal weight.\n"
          ]
        }
      ]
    }
  ]
}
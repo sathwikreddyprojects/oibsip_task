{
  "nbformat": 4,
  "nbformat_minor": 0,
  "metadata": {
    "colab": {
      "provenance": [],
      "toc_visible": true,
      "authorship_tag": "ABX9TyNc6d1+0J27c3dI8fuWNK9I",
      "include_colab_link": true
    },
    "kernelspec": {
      "name": "python3",
      "display_name": "Python 3"
    },
    "language_info": {
      "name": "python"
    }
  },
  "cells": [
    {
      "cell_type": "markdown",
      "metadata": {
        "id": "view-in-github",
        "colab_type": "text"
      },
      "source": [
        "<a href=\"https://colab.research.google.com/github/sathwikreddyprojects/oibsip_task/blob/main/Task_1_Simple_Password_Generator.ipynb\" target=\"_parent\"><img src=\"https://colab.research.google.com/assets/colab-badge.svg\" alt=\"Open In Colab\"/></a>"
      ]
    },
    {
      "cell_type": "markdown",
      "source": [
        "# TASK-1\n",
        "\n",
        "#Project Title: Simple Password Generator"
      ],
      "metadata": {
        "id": "rYKo66OkNAdC"
      }
    },
    {
      "cell_type": "markdown",
      "source": [
        "**Random Password Generator**"
      ],
      "metadata": {
        "id": "YY1vwHPvNIs4"
      }
    },
    {
      "cell_type": "code",
      "source": [
        "import string\n",
        "import random"
      ],
      "metadata": {
        "id": "4PvrMhMKNNHb"
      },
      "execution_count": null,
      "outputs": []
    },
    {
      "cell_type": "code",
      "source": [
        "if __name__==\"__main__\":\n",
        "  s1=string.ascii_lowercase\n",
        "  s2=string.ascii_uppercase\n",
        "  s3=string.digits\n",
        "  s4=string.punctuation"
      ],
      "metadata": {
        "id": "jKC0AOFCNRO-"
      },
      "execution_count": null,
      "outputs": []
    },
    {
      "cell_type": "code",
      "source": [
        "plen=int(input(\"Enter password length\\n\"))\n",
        "s=[]\n",
        "s.extend(list(s1))\n",
        "s.extend(list(s2))\n",
        "s.extend(list(s3))\n",
        "s.extend(list(s4))\n",
        "random.shuffle(s)\n",
        "print(\"Your password is:\")\n",
        "print(\"\".join(s[0:plen]))"
      ],
      "metadata": {
        "id": "_0bFBWbPNZQg",
        "outputId": "57d6143a-c21d-4fcf-c974-477e92d0bf65",
        "colab": {
          "base_uri": "https://localhost:8080/"
        }
      },
      "execution_count": null,
      "outputs": [
        {
          "output_type": "stream",
          "name": "stdout",
          "text": [
            "Enter password length\n",
            "9\n",
            "Your password is:\n",
            "];6a2=Z7|\n"
          ]
        }
      ]
    }
  ]
}
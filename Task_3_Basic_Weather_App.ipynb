{
  "nbformat": 4,
  "nbformat_minor": 0,
  "metadata": {
    "colab": {
      "provenance": [],
      "authorship_tag": "ABX9TyNo9zae8dhkpuFeXkQwIus+",
      "include_colab_link": true
    },
    "kernelspec": {
      "name": "python3",
      "display_name": "Python 3"
    },
    "language_info": {
      "name": "python"
    }
  },
  "cells": [
    {
      "cell_type": "markdown",
      "metadata": {
        "id": "view-in-github",
        "colab_type": "text"
      },
      "source": [
        "<a href=\"https://colab.research.google.com/github/sathwikreddyprojects/oibsip_task/blob/main/Task_3_Basic_Weather_App.ipynb\" target=\"_parent\"><img src=\"https://colab.research.google.com/assets/colab-badge.svg\" alt=\"Open In Colab\"/></a>"
      ]
    },
    {
      "cell_type": "markdown",
      "source": [
        "# TASK-3\n",
        "\n",
        "#Project Title: Basic Weather App"
      ],
      "metadata": {
        "id": "5D1dppXYRYY9"
      }
    },
    {
      "cell_type": "markdown",
      "source": [
        "**Basic Weather App**"
      ],
      "metadata": {
        "id": "WSGIXqvsRlxQ"
      }
    },
    {
      "cell_type": "code",
      "source": [
        "import requests, json\n",
        "\n",
        "def kelvin_to_celsius(kelvin):\n",
        "    return kelvin - 273.15\n",
        "\n",
        "def get_weather(api_key, location):\n",
        "    base_url = \"http://api.openweathermap.org/data/2.5/weather\"\n",
        "    params = {\"q\": location, \"appid\": api_key}\n",
        "\n",
        "    try:\n",
        "        response = requests.get(base_url, params=params)\n",
        "        data = response.json()\n",
        "\n",
        "        temperature_kelvin = data[\"main\"][\"temp\"]\n",
        "        temperature_celsius = kelvin_to_celsius(temperature_kelvin)\n",
        "        humidity = data[\"main\"][\"humidity\"]\n",
        "        weather_condition = data[\"weather\"][0][\"description\"]\n",
        "\n",
        "        print(f\"Weather in {location}:\")\n",
        "        print(f\"Temperature: {temperature_celsius:.2f} °C\")\n",
        "        print(f\"Humidity: {humidity}%\")\n",
        "        print(f\"Condition: {weather_condition}\")\n",
        "\n",
        "    except requests.RequestException as e:\n",
        "        print(f\"Error fetching data: {e}\")\n",
        "\n",
        "if __name__ == \"__main__\":\n",
        "\n",
        "    api_key = \"05e8b776a44e435cfae660c187d8ab5c\"\n",
        "    location = input(\"Enter the city : \")\n",
        "\n",
        "    get_weather(api_key, location)"
      ],
      "metadata": {
        "colab": {
          "base_uri": "https://localhost:8080/"
        },
        "id": "cnU6pCAtRgEa",
        "outputId": "9b461108-2def-4fe8-db0c-732b7a963bcd"
      },
      "execution_count": 2,
      "outputs": [
        {
          "output_type": "stream",
          "name": "stdout",
          "text": [
            "Enter the city : Hyderabad\n",
            "Weather in Hyderabad:\n",
            "Temperature: 30.23 °C\n",
            "Humidity: 35%\n",
            "Condition: haze\n"
          ]
        }
      ]
    }
  ]
}